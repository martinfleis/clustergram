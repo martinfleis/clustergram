{
 "cells": [
  {
   "cell_type": "markdown",
   "id": "modern-township",
   "metadata": {
    "tags": []
   },
   "source": [
    "# Additional methods\n",
    "\n",
    "This notebooks provides an overview of built-in clustering performance evaluation, ways of accessing individual labels resulting from clustering and saving the object to disk.\n",
    "\n",
    "## Clustering performance evaluation\n",
    "\n",
    "Clustergam includes handy wrappers around a selection of clustering performance metrics offered by\n",
    "`scikit-learn`. Data which were originally computed on GPU are converted to numpy on the fly.\n",
    "\n",
    "Let's load the data and fit clustergram on Palmer penguins dataset. See the [Introduction](introduction) for its overview."
   ]
  },
  {
   "cell_type": "code",
   "execution_count": 12,
   "id": "instrumental-beach",
   "metadata": {},
   "outputs": [],
   "source": [
    "import seaborn\n",
    "from sklearn.preprocessing import scale\n",
    "from clustergram import Clustergram\n",
    "\n",
    "seaborn.set(style='whitegrid')\n",
    "\n",
    "df = seaborn.load_dataset('penguins')\n",
    "data = scale(df.drop(columns=['species', 'island', 'sex']).dropna())\n",
    "\n",
    "cgram = Clustergram(range(1, 12), verbose=False)\n",
    "cgram.fit(data)"
   ]
  },
  {
   "cell_type": "markdown",
   "id": "rental-encoding",
   "metadata": {},
   "source": [
    "### Silhouette score\n",
    "\n",
    "Compute the mean Silhouette Coefficient of all samples. See [`scikit-learn` documentation](https://scikit-learn.org/stable/modules/generated/sklearn.metrics.silhouette_score.html#sklearn.metrics.silhouette_score) for details. "
   ]
  },
  {
   "cell_type": "code",
   "execution_count": 14,
   "id": "comic-female",
   "metadata": {},
   "outputs": [
    {
     "data": {
      "text/plain": [
       "2     0.531540\n",
       "3     0.447219\n",
       "4     0.400154\n",
       "5     0.377720\n",
       "6     0.372722\n",
       "7     0.334723\n",
       "8     0.300173\n",
       "9     0.289008\n",
       "10    0.283982\n",
       "11    0.275596\n",
       "Name: silhouette_score, dtype: float64"
      ]
     },
     "execution_count": 14,
     "metadata": {},
     "output_type": "execute_result"
    }
   ],
   "source": [
    "cgram.silhouette_score()"
   ]
  },
  {
   "cell_type": "markdown",
   "id": "sufficient-tobacco",
   "metadata": {},
   "source": [
    "Once computed, resulting Series is available as `cgram.silhouette`. Calling the original method will recompute the score."
   ]
  },
  {
   "cell_type": "code",
   "execution_count": 15,
   "id": "massive-commission",
   "metadata": {},
   "outputs": [
    {
     "data": {
      "text/plain": [
       "<AxesSubplot:>"
      ]
     },
     "execution_count": 15,
     "metadata": {},
     "output_type": "execute_result"
    },
    {
     "data": {
      "image/png": "[encoded data removed]",
      "text/plain": [
       "<Figure size 432x288 with 1 Axes>"
      ]
     },
     "metadata": {},
     "output_type": "display_data"
    }
   ],
   "source": [
    "cgram.silhouette.plot()"
   ]
  },
  {
   "cell_type": "markdown",
   "id": "moral-minutes",
   "metadata": {},
   "source": [
    "### Calinski and Harabasz score\n",
    "\n",
    "Compute the Calinski and Harabasz score, also known as the Variance Ratio Criterion. See [`scikit-learn` documentation](https://scikit-learn.org/stable/modules/generated/sklearn.metrics.calinski_harabasz_score.html#sklearn.metrics.calinski_harabasz_score) for details."
   ]
  },
  {
   "cell_type": "code",
   "execution_count": 4,
   "id": "vulnerable-stewart",
   "metadata": {},
   "outputs": [
    {
     "data": {
      "text/plain": [
       "2     482.191469\n",
       "3     441.677075\n",
       "4     400.410025\n",
       "5     411.258719\n",
       "6     382.291616\n",
       "7     352.464103\n",
       "8     334.070064\n",
       "9     315.539143\n",
       "10    300.957431\n",
       "11    287.590520\n",
       "Name: calinski_harabasz_score, dtype: float64"
      ]
     },
     "execution_count": 4,
     "metadata": {},
     "output_type": "execute_result"
    }
   ],
   "source": [
    "cgram.calinski_harabasz_score()"
   ]
  },
  {
   "cell_type": "markdown",
   "id": "chicken-greeting",
   "metadata": {},
   "source": [
    "Once computed, resulting Series is available as `cgram.calinski_harabasz`. Calling the original method will recompute the score."
   ]
  },
  {
   "cell_type": "code",
   "execution_count": 5,
   "id": "greek-warrant",
   "metadata": {},
   "outputs": [
    {
     "data": {
      "text/plain": [
       "<AxesSubplot:>"
      ]
     },
     "execution_count": 5,
     "metadata": {},
     "output_type": "execute_result"
    },
    {
     "data": {
      "image/png": "[encoded data removed]",
      "text/plain": [
       "<Figure size 432x288 with 1 Axes>"
      ]
     },
     "metadata": {
      "needs_background": "light"
     },
     "output_type": "display_data"
    }
   ],
   "source": [
    "cgram.calinski_harabasz.plot()"
   ]
  },
  {
   "cell_type": "markdown",
   "id": "metallic-gather",
   "metadata": {},
   "source": [
    "### Davies-Bouldin score\n",
    "\n",
    "Compute the Davies-Bouldin score. See [`scikit-learn` documentation](https://scikit-learn.org/stable/modules/generated/sklearn.metrics.davies_bouldin_score.html#sklearn.metrics.davies_bouldin_score) for details."
   ]
  },
  {
   "cell_type": "code",
   "execution_count": 6,
   "id": "august-throat",
   "metadata": {},
   "outputs": [
    {
     "data": {
      "text/plain": [
       "2     0.714064\n",
       "3     0.943553\n",
       "4     0.944215\n",
       "5     0.972408\n",
       "6     0.948556\n",
       "7     1.075790\n",
       "8     1.138705\n",
       "9     1.233587\n",
       "10    1.202486\n",
       "11    1.221233\n",
       "Name: davies_bouldin_score, dtype: float64"
      ]
     },
     "execution_count": 6,
     "metadata": {},
     "output_type": "execute_result"
    }
   ],
   "source": [
    "cgram.davies_bouldin_score()"
   ]
  },
  {
   "cell_type": "markdown",
   "id": "deadly-principal",
   "metadata": {},
   "source": [
    "Once computed, resulting Series is available as `cgram.davies_bouldin`. Calling the original method will recompute the score."
   ]
  },
  {
   "cell_type": "code",
   "execution_count": 8,
   "id": "polish-contractor",
   "metadata": {},
   "outputs": [
    {
     "data": {
      "text/plain": [
       "<AxesSubplot:>"
      ]
     },
     "execution_count": 8,
     "metadata": {},
     "output_type": "execute_result"
    },
    {
     "data": {
      "image/png": "[encoded data removed]",
      "text/plain": [
       "<Figure size 432x288 with 1 Axes>"
      ]
     },
     "metadata": {
      "needs_background": "light"
     },
     "output_type": "display_data"
    }
   ],
   "source": [
    "cgram.davies_bouldin.plot()"
   ]
  },
  {
   "cell_type": "markdown",
   "id": "athletic-importance",
   "metadata": {},
   "source": [
    "## Acessing labels\n",
    "\n",
    "`Clustergram` stores resulting labels for each of the tested options, which can be accessed as:"
   ]
  },
  {
   "cell_type": "code",
   "execution_count": 9,
   "id": "wireless-grounds",
   "metadata": {},
   "outputs": [
    {
     "data": {
      "text/html": [
       "<div>\n",
       "<style scoped>\n",
       "    .dataframe tbody tr th:only-of-type {\n",
       "        vertical-align: middle;\n",
       "    }\n",
       "\n",
       "    .dataframe tbody tr th {\n",
       "        vertical-align: top;\n",
       "    }\n",
       "\n",
       "    .dataframe thead th {\n",
       "        text-align: right;\n",
       "    }\n",
       "</style>\n",
       "<table border=\"1\" class=\"dataframe\">\n",
       "  <thead>\n",
       "    <tr style=\"text-align: right;\">\n",
       "      <th></th>\n",
       "      <th>1</th>\n",
       "      <th>2</th>\n",
       "      <th>3</th>\n",
       "      <th>4</th>\n",
       "      <th>5</th>\n",
       "      <th>6</th>\n",
       "      <th>7</th>\n",
       "      <th>8</th>\n",
       "      <th>9</th>\n",
       "      <th>10</th>\n",
       "      <th>11</th>\n",
       "    </tr>\n",
       "  </thead>\n",
       "  <tbody>\n",
       "    <tr>\n",
       "      <th>0</th>\n",
       "      <td>0</td>\n",
       "      <td>1</td>\n",
       "      <td>1</td>\n",
       "      <td>1</td>\n",
       "      <td>3</td>\n",
       "      <td>4</td>\n",
       "      <td>4</td>\n",
       "      <td>6</td>\n",
       "      <td>7</td>\n",
       "      <td>5</td>\n",
       "      <td>9</td>\n",
       "    </tr>\n",
       "    <tr>\n",
       "      <th>1</th>\n",
       "      <td>0</td>\n",
       "      <td>1</td>\n",
       "      <td>1</td>\n",
       "      <td>1</td>\n",
       "      <td>3</td>\n",
       "      <td>4</td>\n",
       "      <td>4</td>\n",
       "      <td>0</td>\n",
       "      <td>7</td>\n",
       "      <td>1</td>\n",
       "      <td>3</td>\n",
       "    </tr>\n",
       "    <tr>\n",
       "      <th>2</th>\n",
       "      <td>0</td>\n",
       "      <td>1</td>\n",
       "      <td>1</td>\n",
       "      <td>1</td>\n",
       "      <td>3</td>\n",
       "      <td>4</td>\n",
       "      <td>4</td>\n",
       "      <td>0</td>\n",
       "      <td>7</td>\n",
       "      <td>1</td>\n",
       "      <td>3</td>\n",
       "    </tr>\n",
       "    <tr>\n",
       "      <th>3</th>\n",
       "      <td>0</td>\n",
       "      <td>1</td>\n",
       "      <td>1</td>\n",
       "      <td>1</td>\n",
       "      <td>3</td>\n",
       "      <td>4</td>\n",
       "      <td>4</td>\n",
       "      <td>6</td>\n",
       "      <td>0</td>\n",
       "      <td>5</td>\n",
       "      <td>9</td>\n",
       "    </tr>\n",
       "    <tr>\n",
       "      <th>4</th>\n",
       "      <td>0</td>\n",
       "      <td>1</td>\n",
       "      <td>1</td>\n",
       "      <td>1</td>\n",
       "      <td>2</td>\n",
       "      <td>5</td>\n",
       "      <td>0</td>\n",
       "      <td>6</td>\n",
       "      <td>0</td>\n",
       "      <td>3</td>\n",
       "      <td>6</td>\n",
       "    </tr>\n",
       "    <tr>\n",
       "      <th>...</th>\n",
       "      <td>...</td>\n",
       "      <td>...</td>\n",
       "      <td>...</td>\n",
       "      <td>...</td>\n",
       "      <td>...</td>\n",
       "      <td>...</td>\n",
       "      <td>...</td>\n",
       "      <td>...</td>\n",
       "      <td>...</td>\n",
       "      <td>...</td>\n",
       "      <td>...</td>\n",
       "    </tr>\n",
       "    <tr>\n",
       "      <th>337</th>\n",
       "      <td>0</td>\n",
       "      <td>0</td>\n",
       "      <td>0</td>\n",
       "      <td>3</td>\n",
       "      <td>4</td>\n",
       "      <td>3</td>\n",
       "      <td>6</td>\n",
       "      <td>3</td>\n",
       "      <td>1</td>\n",
       "      <td>4</td>\n",
       "      <td>5</td>\n",
       "    </tr>\n",
       "    <tr>\n",
       "      <th>338</th>\n",
       "      <td>0</td>\n",
       "      <td>0</td>\n",
       "      <td>0</td>\n",
       "      <td>3</td>\n",
       "      <td>4</td>\n",
       "      <td>3</td>\n",
       "      <td>6</td>\n",
       "      <td>3</td>\n",
       "      <td>1</td>\n",
       "      <td>4</td>\n",
       "      <td>5</td>\n",
       "    </tr>\n",
       "    <tr>\n",
       "      <th>339</th>\n",
       "      <td>0</td>\n",
       "      <td>0</td>\n",
       "      <td>0</td>\n",
       "      <td>0</td>\n",
       "      <td>1</td>\n",
       "      <td>1</td>\n",
       "      <td>3</td>\n",
       "      <td>7</td>\n",
       "      <td>5</td>\n",
       "      <td>7</td>\n",
       "      <td>7</td>\n",
       "    </tr>\n",
       "    <tr>\n",
       "      <th>340</th>\n",
       "      <td>0</td>\n",
       "      <td>0</td>\n",
       "      <td>0</td>\n",
       "      <td>3</td>\n",
       "      <td>4</td>\n",
       "      <td>3</td>\n",
       "      <td>1</td>\n",
       "      <td>1</td>\n",
       "      <td>8</td>\n",
       "      <td>0</td>\n",
       "      <td>1</td>\n",
       "    </tr>\n",
       "    <tr>\n",
       "      <th>341</th>\n",
       "      <td>0</td>\n",
       "      <td>0</td>\n",
       "      <td>0</td>\n",
       "      <td>0</td>\n",
       "      <td>1</td>\n",
       "      <td>1</td>\n",
       "      <td>1</td>\n",
       "      <td>1</td>\n",
       "      <td>8</td>\n",
       "      <td>0</td>\n",
       "      <td>1</td>\n",
       "    </tr>\n",
       "  </tbody>\n",
       "</table>\n",
       "<p>342 rows × 11 columns</p>\n",
       "</div>"
      ],
      "text/plain": [
       "     1   2   3   4   5   6   7   8   9   10  11\n",
       "0     0   1   1   1   3   4   4   6   7   5   9\n",
       "1     0   1   1   1   3   4   4   0   7   1   3\n",
       "2     0   1   1   1   3   4   4   0   7   1   3\n",
       "3     0   1   1   1   3   4   4   6   0   5   9\n",
       "4     0   1   1   1   2   5   0   6   0   3   6\n",
       "..   ..  ..  ..  ..  ..  ..  ..  ..  ..  ..  ..\n",
       "337   0   0   0   3   4   3   6   3   1   4   5\n",
       "338   0   0   0   3   4   3   6   3   1   4   5\n",
       "339   0   0   0   0   1   1   3   7   5   7   7\n",
       "340   0   0   0   3   4   3   1   1   8   0   1\n",
       "341   0   0   0   0   1   1   1   1   8   0   1\n",
       "\n",
       "[342 rows x 11 columns]"
      ]
     },
     "execution_count": 9,
     "metadata": {},
     "output_type": "execute_result"
    }
   ],
   "source": [
    "cgram.labels"
   ]
  },
  {
   "cell_type": "markdown",
   "id": "turkish-induction",
   "metadata": {},
   "source": [
    "## Saving clustergram\n",
    "\n",
    "If you want to save your computed `clustergram.Clustergram` object to a disk, you can use `pickle` library:"
   ]
  },
  {
   "cell_type": "code",
   "execution_count": 10,
   "id": "formal-skill",
   "metadata": {},
   "outputs": [],
   "source": [
    "import pickle\n",
    "\n",
    "with open('clustergram.pickle','wb') as f:\n",
    "    pickle.dump(cgram, f)"
   ]
  },
  {
   "cell_type": "code",
   "execution_count": 11,
   "id": "underlying-algorithm",
   "metadata": {},
   "outputs": [],
   "source": [
    "with open('clustergram.pickle','rb') as f:\n",
    "    loaded = pickle.load(f)"
   ]
  }
 ],
 "metadata": {
  "kernelspec": {
   "display_name": "",
   "language": "python",
   "name": ""
  },
  "language_info": {
   "codemirror_mode": {
    "name": "ipython",
    "version": 3
   },
   "file_extension": ".py",
   "mimetype": "text/x-python",
   "name": "python",
   "nbconvert_exporter": "python",
   "pygments_lexer": "ipython3",
   "version": "3.9.2"
  }
 },
 "nbformat": 4,
 "nbformat_minor": 5
}

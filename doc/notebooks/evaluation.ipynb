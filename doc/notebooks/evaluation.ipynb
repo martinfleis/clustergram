{
 "cells": [
  {
   "cell_type": "markdown",
   "id": "nasty-newfoundland",
   "metadata": {
    "tags": []
   },
   "source": [
    "# Additional methods\n",
    "\n",
    "```{note}\n",
    "You can try this notebook in you browser: [![Binder](https://mybinder.org/badge_logo.svg)](https://mybinder.org/v2/gh/martinfleis/clustergram/HEAD?filepath=doc%2Fnotebooks%2Fevaluation.ipynb)\n",
    "```\n",
    "\n",
    "This notebooks provides an overview of built-in clustering performance evaluation, ways of accessing individual labels resulting from clustering and saving the object to disk.\n",
    "\n",
    "## Clustering performance evaluation\n",
    "\n",
    "Clustergam includes handy wrappers around a selection of clustering performance metrics offered by\n",
    "`scikit-learn`. Data which were originally computed on GPU are converted to numpy on the fly.\n",
    "\n",
    "Let's load the data and fit clustergram on Palmer penguins dataset. See the [Introduction](introduction) for its overview."
   ]
  },
  {
   "cell_type": "code",
   "execution_count": 1,
   "id": "structural-sharp",
   "metadata": {},
   "outputs": [
    {
     "name": "stderr",
     "output_type": "stream",
     "text": [
      "/Users/martin/mambaforge/envs/cgram/lib/python3.11/site-packages/sklearn/cluster/_kmeans.py:870: FutureWarning: The default value of `n_init` will change from 10 to 'auto' in 1.4. Set the value of `n_init` explicitly to suppress the warning\n",
      "  warnings.warn(\n",
      "/Users/martin/mambaforge/envs/cgram/lib/python3.11/site-packages/sklearn/cluster/_kmeans.py:870: FutureWarning: The default value of `n_init` will change from 10 to 'auto' in 1.4. Set the value of `n_init` explicitly to suppress the warning\n",
      "  warnings.warn(\n",
      "/Users/martin/mambaforge/envs/cgram/lib/python3.11/site-packages/sklearn/cluster/_kmeans.py:870: FutureWarning: The default value of `n_init` will change from 10 to 'auto' in 1.4. Set the value of `n_init` explicitly to suppress the warning\n",
      "  warnings.warn(\n",
      "/Users/martin/mambaforge/envs/cgram/lib/python3.11/site-packages/sklearn/cluster/_kmeans.py:870: FutureWarning: The default value of `n_init` will change from 10 to 'auto' in 1.4. Set the value of `n_init` explicitly to suppress the warning\n",
      "  warnings.warn(\n",
      "/Users/martin/mambaforge/envs/cgram/lib/python3.11/site-packages/sklearn/cluster/_kmeans.py:870: FutureWarning: The default value of `n_init` will change from 10 to 'auto' in 1.4. Set the value of `n_init` explicitly to suppress the warning\n",
      "  warnings.warn(\n",
      "/Users/martin/mambaforge/envs/cgram/lib/python3.11/site-packages/sklearn/cluster/_kmeans.py:870: FutureWarning: The default value of `n_init` will change from 10 to 'auto' in 1.4. Set the value of `n_init` explicitly to suppress the warning\n",
      "  warnings.warn(\n",
      "/Users/martin/mambaforge/envs/cgram/lib/python3.11/site-packages/sklearn/cluster/_kmeans.py:870: FutureWarning: The default value of `n_init` will change from 10 to 'auto' in 1.4. Set the value of `n_init` explicitly to suppress the warning\n",
      "  warnings.warn(\n",
      "/Users/martin/mambaforge/envs/cgram/lib/python3.11/site-packages/sklearn/cluster/_kmeans.py:870: FutureWarning: The default value of `n_init` will change from 10 to 'auto' in 1.4. Set the value of `n_init` explicitly to suppress the warning\n",
      "  warnings.warn(\n",
      "/Users/martin/mambaforge/envs/cgram/lib/python3.11/site-packages/sklearn/cluster/_kmeans.py:870: FutureWarning: The default value of `n_init` will change from 10 to 'auto' in 1.4. Set the value of `n_init` explicitly to suppress the warning\n",
      "  warnings.warn(\n",
      "/Users/martin/mambaforge/envs/cgram/lib/python3.11/site-packages/sklearn/cluster/_kmeans.py:870: FutureWarning: The default value of `n_init` will change from 10 to 'auto' in 1.4. Set the value of `n_init` explicitly to suppress the warning\n",
      "  warnings.warn(\n"
     ]
    }
   ],
   "source": [
    "import seaborn\n",
    "from sklearn.preprocessing import scale\n",
    "from clustergram import Clustergram\n",
    "\n",
    "seaborn.set(style='whitegrid')\n",
    "\n",
    "df = seaborn.load_dataset('penguins')\n",
    "data = scale(df.drop(columns=['species', 'island', 'sex']).dropna())\n",
    "\n",
    "cgram = Clustergram(range(1, 12), verbose=False)\n",
    "cgram.fit(data)"
   ]
  },
  {
   "cell_type": "markdown",
   "id": "electrical-farming",
   "metadata": {},
   "source": [
    "### Silhouette score\n",
    "\n",
    "Compute the mean Silhouette Coefficient of all samples. See [`scikit-learn` documentation](https://scikit-learn.org/stable/modules/generated/sklearn.metrics.silhouette_score.html#sklearn.metrics.silhouette_score) for details. "
   ]
  },
  {
   "cell_type": "code",
   "execution_count": 2,
   "id": "respective-james",
   "metadata": {},
   "outputs": [
    {
     "data": {
      "text/plain": [
       "2     0.531540\n",
       "3     0.447219\n",
       "4     0.400778\n",
       "5     0.378238\n",
       "6     0.372722\n",
       "7     0.333516\n",
       "8     0.299830\n",
       "9     0.287977\n",
       "10    0.284038\n",
       "11    0.275403\n",
       "Name: silhouette_score, dtype: float64"
      ]
     },
     "execution_count": 2,
     "metadata": {},
     "output_type": "execute_result"
    }
   ],
   "source": [
    "cgram.silhouette_score()"
   ]
  },
  {
   "cell_type": "markdown",
   "id": "bigger-proposition",
   "metadata": {},
   "source": [
    "Once computed, resulting Series is available as `cgram.silhouette`. Calling the original method will recompute the score."
   ]
  },
  {
   "cell_type": "code",
   "execution_count": 3,
   "id": "saved-directory",
   "metadata": {},
   "outputs": [
    {
     "data": {
      "text/plain": [
       "<AxesSubplot: >"
      ]
     },
     "execution_count": 3,
     "metadata": {},
     "output_type": "execute_result"
    },
    {
     "data": {
      "image/png": "[encoded data removed]",
      "text/plain": [
       "<Figure size 640x480 with 1 Axes>"
      ]
     },
     "metadata": {},
     "output_type": "display_data"
    }
   ],
   "source": [
    "cgram.silhouette.plot()"
   ]
  },
  {
   "cell_type": "markdown",
   "id": "mathematical-collect",
   "metadata": {},
   "source": [
    "### Calinski and Harabasz score\n",
    "\n",
    "Compute the Calinski and Harabasz score, also known as the Variance Ratio Criterion. See [`scikit-learn` documentation](https://scikit-learn.org/stable/modules/generated/sklearn.metrics.calinski_harabasz_score.html#sklearn.metrics.calinski_harabasz_score) for details."
   ]
  },
  {
   "cell_type": "code",
   "execution_count": 4,
   "id": "nuclear-brunswick",
   "metadata": {},
   "outputs": [
    {
     "data": {
      "text/plain": [
       "2     482.191469\n",
       "3     441.677075\n",
       "4     400.184568\n",
       "5     411.258719\n",
       "6     382.463837\n",
       "7     352.276772\n",
       "8     333.727775\n",
       "9     316.530219\n",
       "10    300.691368\n",
       "11    286.624319\n",
       "Name: calinski_harabasz_score, dtype: float64"
      ]
     },
     "execution_count": 4,
     "metadata": {},
     "output_type": "execute_result"
    }
   ],
   "source": [
    "cgram.calinski_harabasz_score()"
   ]
  },
  {
   "cell_type": "markdown",
   "id": "abandoned-running",
   "metadata": {},
   "source": [
    "Once computed, resulting Series is available as `cgram.calinski_harabasz`. Calling the original method will recompute the score."
   ]
  },
  {
   "cell_type": "code",
   "execution_count": 5,
   "id": "acknowledged-boxing",
   "metadata": {},
   "outputs": [
    {
     "data": {
      "text/plain": [
       "<AxesSubplot: >"
      ]
     },
     "execution_count": 5,
     "metadata": {},
     "output_type": "execute_result"
    },
    {
     "data": {
      "image/png": "[encoded data removed]",
      "text/plain": [
       "<Figure size 640x480 with 1 Axes>"
      ]
     },
     "metadata": {},
     "output_type": "display_data"
    }
   ],
   "source": [
    "cgram.calinski_harabasz.plot()"
   ]
  },
  {
   "cell_type": "markdown",
   "id": "embedded-accommodation",
   "metadata": {},
   "source": [
    "### Davies-Bouldin score\n",
    "\n",
    "Compute the Davies-Bouldin score. See [`scikit-learn` documentation](https://scikit-learn.org/stable/modules/generated/sklearn.metrics.davies_bouldin_score.html#sklearn.metrics.davies_bouldin_score) for details."
   ]
  },
  {
   "cell_type": "code",
   "execution_count": 6,
   "id": "pacific-kazakhstan",
   "metadata": {},
   "outputs": [
    {
     "data": {
      "text/plain": [
       "2     0.714064\n",
       "3     0.943553\n",
       "4     0.942800\n",
       "5     0.972408\n",
       "6     0.950563\n",
       "7     1.034658\n",
       "8     1.142045\n",
       "9     1.198754\n",
       "10    1.208359\n",
       "11    1.249768\n",
       "Name: davies_bouldin_score, dtype: float64"
      ]
     },
     "execution_count": 6,
     "metadata": {},
     "output_type": "execute_result"
    }
   ],
   "source": [
    "cgram.davies_bouldin_score()"
   ]
  },
  {
   "cell_type": "markdown",
   "id": "numeric-source",
   "metadata": {},
   "source": [
    "Once computed, resulting Series is available as `cgram.davies_bouldin`. Calling the original method will recompute the score."
   ]
  },
  {
   "cell_type": "code",
   "execution_count": 7,
   "id": "ultimate-montgomery",
   "metadata": {},
   "outputs": [
    {
     "data": {
      "text/plain": [
       "<AxesSubplot: >"
      ]
     },
     "execution_count": 7,
     "metadata": {},
     "output_type": "execute_result"
    },
    {
     "data": {
      "image/png": "[encoded data removed]",
      "text/plain": [
       "<Figure size 640x480 with 1 Axes>"
      ]
     },
     "metadata": {},
     "output_type": "display_data"
    }
   ],
   "source": [
    "cgram.davies_bouldin.plot()"
   ]
  },
  {
   "cell_type": "markdown",
   "id": "patent-stick",
   "metadata": {},
   "source": [
    "## Acessing labels\n",
    "\n",
    "`Clustergram` stores resulting labels for each of the tested options, which can be accessed as:"
   ]
  },
  {
   "cell_type": "code",
   "execution_count": 8,
   "id": "chronic-nothing",
   "metadata": {},
   "outputs": [
    {
     "data": {
      "text/html": [
       "<div>\n",
       "<style scoped>\n",
       "    .dataframe tbody tr th:only-of-type {\n",
       "        vertical-align: middle;\n",
       "    }\n",
       "\n",
       "    .dataframe tbody tr th {\n",
       "        vertical-align: top;\n",
       "    }\n",
       "\n",
       "    .dataframe thead th {\n",
       "        text-align: right;\n",
       "    }\n",
       "</style>\n",
       "<table border=\"1\" class=\"dataframe\">\n",
       "  <thead>\n",
       "    <tr style=\"text-align: right;\">\n",
       "      <th></th>\n",
       "      <th>1</th>\n",
       "      <th>2</th>\n",
       "      <th>3</th>\n",
       "      <th>4</th>\n",
       "      <th>5</th>\n",
       "      <th>6</th>\n",
       "      <th>7</th>\n",
       "      <th>8</th>\n",
       "      <th>9</th>\n",
       "      <th>10</th>\n",
       "      <th>11</th>\n",
       "    </tr>\n",
       "  </thead>\n",
       "  <tbody>\n",
       "    <tr>\n",
       "      <th>0</th>\n",
       "      <td>0</td>\n",
       "      <td>0</td>\n",
       "      <td>1</td>\n",
       "      <td>1</td>\n",
       "      <td>4</td>\n",
       "      <td>0</td>\n",
       "      <td>3</td>\n",
       "      <td>4</td>\n",
       "      <td>7</td>\n",
       "      <td>9</td>\n",
       "      <td>4</td>\n",
       "    </tr>\n",
       "    <tr>\n",
       "      <th>1</th>\n",
       "      <td>0</td>\n",
       "      <td>0</td>\n",
       "      <td>1</td>\n",
       "      <td>1</td>\n",
       "      <td>4</td>\n",
       "      <td>0</td>\n",
       "      <td>3</td>\n",
       "      <td>2</td>\n",
       "      <td>7</td>\n",
       "      <td>3</td>\n",
       "      <td>4</td>\n",
       "    </tr>\n",
       "    <tr>\n",
       "      <th>2</th>\n",
       "      <td>0</td>\n",
       "      <td>0</td>\n",
       "      <td>1</td>\n",
       "      <td>1</td>\n",
       "      <td>4</td>\n",
       "      <td>0</td>\n",
       "      <td>3</td>\n",
       "      <td>2</td>\n",
       "      <td>8</td>\n",
       "      <td>3</td>\n",
       "      <td>0</td>\n",
       "    </tr>\n",
       "    <tr>\n",
       "      <th>3</th>\n",
       "      <td>0</td>\n",
       "      <td>0</td>\n",
       "      <td>1</td>\n",
       "      <td>1</td>\n",
       "      <td>4</td>\n",
       "      <td>0</td>\n",
       "      <td>3</td>\n",
       "      <td>4</td>\n",
       "      <td>6</td>\n",
       "      <td>9</td>\n",
       "      <td>0</td>\n",
       "    </tr>\n",
       "    <tr>\n",
       "      <th>4</th>\n",
       "      <td>0</td>\n",
       "      <td>0</td>\n",
       "      <td>1</td>\n",
       "      <td>1</td>\n",
       "      <td>1</td>\n",
       "      <td>4</td>\n",
       "      <td>5</td>\n",
       "      <td>4</td>\n",
       "      <td>6</td>\n",
       "      <td>0</td>\n",
       "      <td>8</td>\n",
       "    </tr>\n",
       "    <tr>\n",
       "      <th>...</th>\n",
       "      <td>...</td>\n",
       "      <td>...</td>\n",
       "      <td>...</td>\n",
       "      <td>...</td>\n",
       "      <td>...</td>\n",
       "      <td>...</td>\n",
       "      <td>...</td>\n",
       "      <td>...</td>\n",
       "      <td>...</td>\n",
       "      <td>...</td>\n",
       "      <td>...</td>\n",
       "    </tr>\n",
       "    <tr>\n",
       "      <th>337</th>\n",
       "      <td>0</td>\n",
       "      <td>1</td>\n",
       "      <td>2</td>\n",
       "      <td>2</td>\n",
       "      <td>0</td>\n",
       "      <td>1</td>\n",
       "      <td>6</td>\n",
       "      <td>3</td>\n",
       "      <td>0</td>\n",
       "      <td>5</td>\n",
       "      <td>3</td>\n",
       "    </tr>\n",
       "    <tr>\n",
       "      <th>338</th>\n",
       "      <td>0</td>\n",
       "      <td>1</td>\n",
       "      <td>2</td>\n",
       "      <td>2</td>\n",
       "      <td>0</td>\n",
       "      <td>1</td>\n",
       "      <td>6</td>\n",
       "      <td>3</td>\n",
       "      <td>0</td>\n",
       "      <td>5</td>\n",
       "      <td>3</td>\n",
       "    </tr>\n",
       "    <tr>\n",
       "      <th>339</th>\n",
       "      <td>0</td>\n",
       "      <td>1</td>\n",
       "      <td>2</td>\n",
       "      <td>0</td>\n",
       "      <td>2</td>\n",
       "      <td>3</td>\n",
       "      <td>0</td>\n",
       "      <td>7</td>\n",
       "      <td>3</td>\n",
       "      <td>1</td>\n",
       "      <td>5</td>\n",
       "    </tr>\n",
       "    <tr>\n",
       "      <th>340</th>\n",
       "      <td>0</td>\n",
       "      <td>1</td>\n",
       "      <td>2</td>\n",
       "      <td>2</td>\n",
       "      <td>0</td>\n",
       "      <td>1</td>\n",
       "      <td>4</td>\n",
       "      <td>1</td>\n",
       "      <td>5</td>\n",
       "      <td>7</td>\n",
       "      <td>1</td>\n",
       "    </tr>\n",
       "    <tr>\n",
       "      <th>341</th>\n",
       "      <td>0</td>\n",
       "      <td>1</td>\n",
       "      <td>2</td>\n",
       "      <td>0</td>\n",
       "      <td>2</td>\n",
       "      <td>3</td>\n",
       "      <td>4</td>\n",
       "      <td>1</td>\n",
       "      <td>5</td>\n",
       "      <td>7</td>\n",
       "      <td>1</td>\n",
       "    </tr>\n",
       "  </tbody>\n",
       "</table>\n",
       "<p>342 rows × 11 columns</p>\n",
       "</div>"
      ],
      "text/plain": [
       "     1   2   3   4   5   6   7   8   9   10  11\n",
       "0     0   0   1   1   4   0   3   4   7   9   4\n",
       "1     0   0   1   1   4   0   3   2   7   3   4\n",
       "2     0   0   1   1   4   0   3   2   8   3   0\n",
       "3     0   0   1   1   4   0   3   4   6   9   0\n",
       "4     0   0   1   1   1   4   5   4   6   0   8\n",
       "..   ..  ..  ..  ..  ..  ..  ..  ..  ..  ..  ..\n",
       "337   0   1   2   2   0   1   6   3   0   5   3\n",
       "338   0   1   2   2   0   1   6   3   0   5   3\n",
       "339   0   1   2   0   2   3   0   7   3   1   5\n",
       "340   0   1   2   2   0   1   4   1   5   7   1\n",
       "341   0   1   2   0   2   3   4   1   5   7   1\n",
       "\n",
       "[342 rows x 11 columns]"
      ]
     },
     "execution_count": 8,
     "metadata": {},
     "output_type": "execute_result"
    }
   ],
   "source": [
    "cgram.labels"
   ]
  },
  {
   "cell_type": "markdown",
   "id": "attached-prisoner",
   "metadata": {},
   "source": [
    "## Saving clustergram\n",
    "\n",
    "If you want to save your computed `clustergram.Clustergram` object to a disk, you can use `pickle` library:"
   ]
  },
  {
   "cell_type": "code",
   "execution_count": 9,
   "id": "opening-router",
   "metadata": {},
   "outputs": [],
   "source": [
    "import pickle\n",
    "\n",
    "with open('clustergram.pickle','wb') as f:\n",
    "    pickle.dump(cgram, f)"
   ]
  },
  {
   "cell_type": "code",
   "execution_count": 10,
   "id": "relevant-breeding",
   "metadata": {},
   "outputs": [],
   "source": [
    "with open('clustergram.pickle','rb') as f:\n",
    "    loaded = pickle.load(f)"
   ]
  }
 ],
 "metadata": {
  "kernelspec": {
   "display_name": "Python 3 (ipykernel)",
   "language": "python",
   "name": "python3"
  },
  "language_info": {
   "codemirror_mode": {
    "name": "ipython",
    "version": 3
   },
   "file_extension": ".py",
   "mimetype": "text/x-python",
   "name": "python",
   "nbconvert_exporter": "python",
   "pygments_lexer": "ipython3",
   "version": "3.11.0"
  }
 },
 "nbformat": 4,
 "nbformat_minor": 5
}
